{
 "cells": [
  {
   "cell_type": "markdown",
   "metadata": {},
   "source": [
    "<a href=\"https://githubtocolab.com/giswqs/geemap/blob/master/examples/notebooks/48_folium_legend.ipynb\" target=\"_parent\"><img src=\"https://colab.research.google.com/assets/colab-badge.svg\" alt=\"Open in Colab\"/></a>\n",
    "\n",
    "Uncomment the following line to install [geemap](https://geemap.org) if needed."
   ]
  },
  {
   "cell_type": "code",
   "execution_count": 1,
   "metadata": {},
   "outputs": [
    {
     "name": "stdout",
     "output_type": "stream",
     "text": [
      "Requirement already satisfied: geemap in /home/joy/.local/lib/python3.8/site-packages (0.16.2)\n",
      "Requirement already satisfied: scooby in /home/joy/.local/lib/python3.8/site-packages (from geemap) (0.6.0)\n",
      "Requirement already satisfied: bqplot in /home/joy/.local/lib/python3.8/site-packages (from geemap) (0.12.33)\n",
      "Requirement already satisfied: folium>=0.11.0 in /home/joy/.local/lib/python3.8/site-packages (from geemap) (0.12.1.post1)\n",
      "Requirement already satisfied: xyzservices in /home/joy/.local/lib/python3.8/site-packages (from geemap) (2022.6.0)\n",
      "Requirement already satisfied: sankee>=0.1.0 in /home/joy/.local/lib/python3.8/site-packages (from geemap) (0.2.0)\n",
      "Requirement already satisfied: pandas in /home/joy/.local/lib/python3.8/site-packages (from geemap) (1.4.3)\n",
      "Requirement already satisfied: earthengine-api>=0.1.304 in /home/joy/.local/lib/python3.8/site-packages (from geemap) (0.1.318)\n",
      "Requirement already satisfied: matplotlib in /home/joy/.local/lib/python3.8/site-packages (from geemap) (3.5.2)\n",
      "Requirement already satisfied: ee-extra>=0.0.10 in /home/joy/.local/lib/python3.8/site-packages (from geemap) (0.0.14)\n",
      "Requirement already satisfied: pillow in /home/joy/.local/lib/python3.8/site-packages (from geemap) (9.1.1)\n",
      "Requirement already satisfied: ffmpeg-python in /home/joy/.local/lib/python3.8/site-packages (from geemap) (0.2.0)\n",
      "Requirement already satisfied: ipyfilechooser>=0.6.0 in /home/joy/.local/lib/python3.8/site-packages (from geemap) (0.6.0)\n",
      "Requirement already satisfied: jupyterlab>=3 in /home/joy/.local/lib/python3.8/site-packages (from geemap) (3.4.4)\n",
      "Requirement already satisfied: numpy in /home/joy/.local/lib/python3.8/site-packages (from geemap) (1.23.1)\n",
      "Requirement already satisfied: pycrs in /home/joy/.local/lib/python3.8/site-packages (from geemap) (1.0.2)\n",
      "Requirement already satisfied: ipytree in /home/joy/.local/lib/python3.8/site-packages (from geemap) (0.2.1)\n",
      "Requirement already satisfied: geeadd>=0.5.1 in /home/joy/.local/lib/python3.8/site-packages (from geemap) (0.5.5)\n",
      "Requirement already satisfied: pyshp>=2.1.3 in /home/joy/.local/lib/python3.8/site-packages (from geemap) (2.3.1)\n",
      "Requirement already satisfied: gdown in /home/joy/.local/lib/python3.8/site-packages (from geemap) (4.5.1)\n",
      "Requirement already satisfied: python-box in /home/joy/.local/lib/python3.8/site-packages (from geemap) (6.0.2)\n",
      "Requirement already satisfied: ipyevents in /home/joy/.local/lib/python3.8/site-packages (from geemap) (2.0.1)\n",
      "Requirement already satisfied: whiteboxgui>=0.6.0 in /home/joy/.local/lib/python3.8/site-packages (from geemap) (0.7.0)\n",
      "Requirement already satisfied: ipyleaflet>=0.17.0 in /home/joy/.local/lib/python3.8/site-packages (from geemap) (0.17.0)\n",
      "Requirement already satisfied: colour in /home/joy/.local/lib/python3.8/site-packages (from geemap) (0.1.5)\n",
      "Requirement already satisfied: geojson in /home/joy/.local/lib/python3.8/site-packages (from geemap) (2.5.0)\n",
      "Requirement already satisfied: geocoder in /home/joy/.local/lib/python3.8/site-packages (from geemap) (1.38.1)\n",
      "Requirement already satisfied: ipywidgets>=7.5.0 in /home/joy/.local/lib/python3.8/site-packages (from bqplot->geemap) (7.7.1)\n",
      "Requirement already satisfied: traittypes>=0.0.6 in /home/joy/.local/lib/python3.8/site-packages (from bqplot->geemap) (0.2.1)\n",
      "Requirement already satisfied: traitlets>=4.3.0 in /home/joy/.local/lib/python3.8/site-packages (from bqplot->geemap) (5.3.0)\n",
      "Requirement already satisfied: branca>=0.3.0 in /home/joy/.local/lib/python3.8/site-packages (from folium>=0.11.0->geemap) (0.5.0)\n",
      "Requirement already satisfied: jinja2>=2.9 in /home/joy/.local/lib/python3.8/site-packages (from folium>=0.11.0->geemap) (3.0.2)\n",
      "Requirement already satisfied: requests in /home/joy/.local/lib/python3.8/site-packages (from folium>=0.11.0->geemap) (2.28.0)\n",
      "Requirement already satisfied: plotly>=5.2.2 in /home/joy/.local/lib/python3.8/site-packages (from sankee>=0.1.0->geemap) (5.9.0)\n",
      "Requirement already satisfied: pytz>=2020.1 in /home/joy/.local/lib/python3.8/site-packages (from pandas->geemap) (2021.3)\n",
      "Requirement already satisfied: python-dateutil>=2.8.1 in /home/joy/.local/lib/python3.8/site-packages (from pandas->geemap) (2.8.2)\n",
      "Requirement already satisfied: google-auth-httplib2>=0.0.3 in /home/joy/.local/lib/python3.8/site-packages (from earthengine-api>=0.1.304->geemap) (0.1.0)\n",
      "Requirement already satisfied: future in /usr/lib/python3/dist-packages (from earthengine-api>=0.1.304->geemap) (0.18.2)\n",
      "Requirement already satisfied: httplib2shim in /home/joy/.local/lib/python3.8/site-packages (from earthengine-api>=0.1.304->geemap) (0.0.3)\n",
      "Requirement already satisfied: six in /home/joy/.local/lib/python3.8/site-packages (from earthengine-api>=0.1.304->geemap) (1.16.0)\n",
      "Requirement already satisfied: httplib2<1dev,>=0.9.2 in /usr/lib/python3/dist-packages (from earthengine-api>=0.1.304->geemap) (0.14.0)\n",
      "Requirement already satisfied: google-cloud-storage in /home/joy/.local/lib/python3.8/site-packages (from earthengine-api>=0.1.304->geemap) (2.5.0)\n",
      "Requirement already satisfied: google-api-python-client<2,>=1.12.1 in /home/joy/.local/lib/python3.8/site-packages (from earthengine-api>=0.1.304->geemap) (1.12.11)\n",
      "Requirement already satisfied: google-auth>=1.4.1 in /home/joy/.local/lib/python3.8/site-packages (from earthengine-api>=0.1.304->geemap) (2.9.1)\n",
      "Requirement already satisfied: packaging>=20.0 in /usr/lib/python3/dist-packages (from matplotlib->geemap) (20.3)\n",
      "Requirement already satisfied: kiwisolver>=1.0.1 in /home/joy/.local/lib/python3.8/site-packages (from matplotlib->geemap) (1.4.4)\n",
      "Requirement already satisfied: pyparsing>=2.2.1 in /usr/lib/python3/dist-packages (from matplotlib->geemap) (2.4.6)\n",
      "Requirement already satisfied: fonttools>=4.22.0 in /home/joy/.local/lib/python3.8/site-packages (from matplotlib->geemap) (4.34.4)\n",
      "Requirement already satisfied: cycler>=0.10 in /home/joy/.local/lib/python3.8/site-packages (from matplotlib->geemap) (0.11.0)\n",
      "Requirement already satisfied: notebook<7 in /home/joy/.local/lib/python3.8/site-packages (from jupyterlab>=3->geemap) (6.4.12)\n",
      "Requirement already satisfied: jupyterlab-server~=2.10 in /home/joy/.local/lib/python3.8/site-packages (from jupyterlab>=3->geemap) (2.15.0)\n",
      "Requirement already satisfied: jupyter-core in /home/joy/.local/lib/python3.8/site-packages (from jupyterlab>=3->geemap) (4.11.1)\n",
      "Requirement already satisfied: ipython in /home/joy/.local/lib/python3.8/site-packages (from jupyterlab>=3->geemap) (8.4.0)\n",
      "Requirement already satisfied: jupyter-server~=1.16 in /home/joy/.local/lib/python3.8/site-packages (from jupyterlab>=3->geemap) (1.18.1)\n",
      "Requirement already satisfied: tornado>=6.1.0 in /home/joy/.local/lib/python3.8/site-packages (from jupyterlab>=3->geemap) (6.2)\n",
      "Requirement already satisfied: nbclassic in /home/joy/.local/lib/python3.8/site-packages (from jupyterlab>=3->geemap) (0.4.3)\n",
      "Requirement already satisfied: logzero>=1.5.0 in /home/joy/.local/lib/python3.8/site-packages (from geeadd>=0.5.1->geemap) (1.7.0)\n",
      "Requirement already satisfied: beautifulsoup4>=4.9.0 in /home/joy/.local/lib/python3.8/site-packages (from geeadd>=0.5.1->geemap) (4.11.1)\n",
      "Requirement already satisfied: filelock in /usr/lib/python3/dist-packages (from gdown->geemap) (3.0.12)\n",
      "Requirement already satisfied: tqdm in /home/joy/.local/lib/python3.8/site-packages (from gdown->geemap) (4.64.0)\n",
      "Requirement already satisfied: whitebox in /home/joy/.local/lib/python3.8/site-packages (from whiteboxgui>=0.6.0->geemap) (2.1.4)\n",
      "Requirement already satisfied: click in /home/joy/.local/lib/python3.8/site-packages (from geocoder->geemap) (8.0.3)\n",
      "Requirement already satisfied: ratelim in /home/joy/.local/lib/python3.8/site-packages (from geocoder->geemap) (0.1.6)\n",
      "Requirement already satisfied: widgetsnbextension~=3.6.0 in /home/joy/.local/lib/python3.8/site-packages (from ipywidgets>=7.5.0->bqplot->geemap) (3.6.1)\n",
      "Requirement already satisfied: ipython-genutils~=0.2.0 in /home/joy/.local/lib/python3.8/site-packages (from ipywidgets>=7.5.0->bqplot->geemap) (0.2.0)\n",
      "Requirement already satisfied: ipykernel>=4.5.1 in /home/joy/.local/lib/python3.8/site-packages (from ipywidgets>=7.5.0->bqplot->geemap) (6.15.1)\n",
      "Requirement already satisfied: jupyterlab-widgets>=1.0.0; python_version >= \"3.6\" in /home/joy/.local/lib/python3.8/site-packages (from ipywidgets>=7.5.0->bqplot->geemap) (1.1.1)\n",
      "Requirement already satisfied: MarkupSafe>=2.0 in /home/joy/.local/lib/python3.8/site-packages (from jinja2>=2.9->folium>=0.11.0->geemap) (2.1.1)\n",
      "Requirement already satisfied: charset-normalizer~=2.0.0 in /home/joy/.local/lib/python3.8/site-packages (from requests->folium>=0.11.0->geemap) (2.0.12)\n",
      "Requirement already satisfied: urllib3<1.27,>=1.21.1 in /home/joy/.local/lib/python3.8/site-packages (from requests->folium>=0.11.0->geemap) (1.26.9)\n",
      "Requirement already satisfied: certifi>=2017.4.17 in /home/joy/.local/lib/python3.8/site-packages (from requests->folium>=0.11.0->geemap) (2022.6.15)\n",
      "Requirement already satisfied: idna<4,>=2.5 in /home/joy/.local/lib/python3.8/site-packages (from requests->folium>=0.11.0->geemap) (3.3)\n",
      "Requirement already satisfied: tenacity>=6.2.0 in /home/joy/.local/lib/python3.8/site-packages (from plotly>=5.2.2->sankee>=0.1.0->geemap) (8.0.1)\n",
      "Requirement already satisfied: google-cloud-core<3.0dev,>=2.3.0 in /home/joy/.local/lib/python3.8/site-packages (from google-cloud-storage->earthengine-api>=0.1.304->geemap) (2.3.2)\n",
      "Requirement already satisfied: google-resumable-media>=2.3.2 in /home/joy/.local/lib/python3.8/site-packages (from google-cloud-storage->earthengine-api>=0.1.304->geemap) (2.3.3)\n",
      "Requirement already satisfied: google-api-core!=2.0.*,!=2.1.*,!=2.2.*,!=2.3.0,<3.0.0dev,>=1.31.5 in /home/joy/.local/lib/python3.8/site-packages (from google-cloud-storage->earthengine-api>=0.1.304->geemap) (2.8.2)\n",
      "Requirement already satisfied: uritemplate<4dev,>=3.0.0 in /home/joy/.local/lib/python3.8/site-packages (from google-api-python-client<2,>=1.12.1->earthengine-api>=0.1.304->geemap) (3.0.1)\n",
      "Requirement already satisfied: cachetools<6.0,>=2.0.0 in /home/joy/.local/lib/python3.8/site-packages (from google-auth>=1.4.1->earthengine-api>=0.1.304->geemap) (5.2.0)\n",
      "Requirement already satisfied: rsa<5,>=3.1.4; python_version >= \"3.6\" in /home/joy/.local/lib/python3.8/site-packages (from google-auth>=1.4.1->earthengine-api>=0.1.304->geemap) (4.9)\n",
      "Requirement already satisfied: pyasn1-modules>=0.2.1 in /home/joy/.local/lib/python3.8/site-packages (from google-auth>=1.4.1->earthengine-api>=0.1.304->geemap) (0.2.8)\n",
      "Requirement already satisfied: nbformat in /home/joy/.local/lib/python3.8/site-packages (from notebook<7->jupyterlab>=3->geemap) (5.4.0)\n",
      "Requirement already satisfied: pyzmq>=17 in /home/joy/.local/lib/python3.8/site-packages (from notebook<7->jupyterlab>=3->geemap) (23.2.0)\n",
      "Requirement already satisfied: prometheus-client in /home/joy/.local/lib/python3.8/site-packages (from notebook<7->jupyterlab>=3->geemap) (0.14.1)\n",
      "Requirement already satisfied: nbconvert>=5 in /home/joy/.local/lib/python3.8/site-packages (from notebook<7->jupyterlab>=3->geemap) (6.5.0)\n",
      "Requirement already satisfied: Send2Trash>=1.8.0 in /home/joy/.local/lib/python3.8/site-packages (from notebook<7->jupyterlab>=3->geemap) (1.8.0)\n",
      "Requirement already satisfied: argon2-cffi in /home/joy/.local/lib/python3.8/site-packages (from notebook<7->jupyterlab>=3->geemap) (21.3.0)\n",
      "Requirement already satisfied: jupyter-client>=5.3.4 in /home/joy/.local/lib/python3.8/site-packages (from notebook<7->jupyterlab>=3->geemap) (7.3.4)\n",
      "Requirement already satisfied: terminado>=0.8.3 in /home/joy/.local/lib/python3.8/site-packages (from notebook<7->jupyterlab>=3->geemap) (0.15.0)\n",
      "Requirement already satisfied: nest-asyncio>=1.5 in /home/joy/.local/lib/python3.8/site-packages (from notebook<7->jupyterlab>=3->geemap) (1.5.5)\n",
      "Requirement already satisfied: jsonschema>=3.0.1 in /home/joy/.local/lib/python3.8/site-packages (from jupyterlab-server~=2.10->jupyterlab>=3->geemap) (4.5.1)\n",
      "Requirement already satisfied: importlib-metadata>=3.6; python_version < \"3.10\" in /home/joy/.local/lib/python3.8/site-packages (from jupyterlab-server~=2.10->jupyterlab>=3->geemap) (4.11.3)\n",
      "Requirement already satisfied: json5 in /home/joy/.local/lib/python3.8/site-packages (from jupyterlab-server~=2.10->jupyterlab>=3->geemap) (0.9.9)\n",
      "Requirement already satisfied: babel in /home/joy/.local/lib/python3.8/site-packages (from jupyterlab-server~=2.10->jupyterlab>=3->geemap) (2.10.3)\n",
      "Requirement already satisfied: stack-data in /home/joy/.local/lib/python3.8/site-packages (from ipython->jupyterlab>=3->geemap) (0.3.0)\n",
      "Requirement already satisfied: matplotlib-inline in /home/joy/.local/lib/python3.8/site-packages (from ipython->jupyterlab>=3->geemap) (0.1.3)\n",
      "Requirement already satisfied: jedi>=0.16 in /home/joy/.local/lib/python3.8/site-packages (from ipython->jupyterlab>=3->geemap) (0.18.1)\n",
      "Requirement already satisfied: backcall in /home/joy/.local/lib/python3.8/site-packages (from ipython->jupyterlab>=3->geemap) (0.2.0)\n",
      "Requirement already satisfied: pickleshare in /home/joy/.local/lib/python3.8/site-packages (from ipython->jupyterlab>=3->geemap) (0.7.5)\n",
      "Requirement already satisfied: decorator in /home/joy/.local/lib/python3.8/site-packages (from ipython->jupyterlab>=3->geemap) (5.1.1)\n",
      "Requirement already satisfied: prompt-toolkit!=3.0.0,!=3.0.1,<3.1.0,>=2.0.0 in /home/joy/.local/lib/python3.8/site-packages (from ipython->jupyterlab>=3->geemap) (3.0.30)\n",
      "Requirement already satisfied: pexpect>4.3; sys_platform != \"win32\" in /usr/lib/python3/dist-packages (from ipython->jupyterlab>=3->geemap) (4.6.0)\n",
      "Requirement already satisfied: setuptools>=18.5 in /usr/lib/python3/dist-packages (from ipython->jupyterlab>=3->geemap) (45.2.0)\n",
      "Requirement already satisfied: pygments>=2.4.0 in /home/joy/.local/lib/python3.8/site-packages (from ipython->jupyterlab>=3->geemap) (2.12.0)\n",
      "Requirement already satisfied: anyio<4,>=3.1.0 in /home/joy/.local/lib/python3.8/site-packages (from jupyter-server~=1.16->jupyterlab>=3->geemap) (3.6.1)\n",
      "Requirement already satisfied: websocket-client in /home/joy/.local/lib/python3.8/site-packages (from jupyter-server~=1.16->jupyterlab>=3->geemap) (1.3.3)\n",
      "Requirement already satisfied: notebook-shim>=0.1.0 in /home/joy/.local/lib/python3.8/site-packages (from nbclassic->jupyterlab>=3->geemap) (0.1.0)\n",
      "Requirement already satisfied: soupsieve>1.2 in /home/joy/.local/lib/python3.8/site-packages (from beautifulsoup4>=4.9.0->geeadd>=0.5.1->geemap) (2.3.2.post1)\n",
      "Requirement already satisfied: psutil in /home/joy/.local/lib/python3.8/site-packages (from ipykernel>=4.5.1->ipywidgets>=7.5.0->bqplot->geemap) (5.9.1)\n",
      "Requirement already satisfied: debugpy>=1.0 in /home/joy/.local/lib/python3.8/site-packages (from ipykernel>=4.5.1->ipywidgets>=7.5.0->bqplot->geemap) (1.6.2)\n",
      "Requirement already satisfied: google-crc32c<2.0dev,>=1.0 in /home/joy/.local/lib/python3.8/site-packages (from google-resumable-media>=2.3.2->google-cloud-storage->earthengine-api>=0.1.304->geemap) (1.3.0)\n",
      "Requirement already satisfied: googleapis-common-protos<2.0dev,>=1.56.2 in /home/joy/.local/lib/python3.8/site-packages (from google-api-core!=2.0.*,!=2.1.*,!=2.2.*,!=2.3.0,<3.0.0dev,>=1.31.5->google-cloud-storage->earthengine-api>=0.1.304->geemap) (1.56.4)\n",
      "Requirement already satisfied: protobuf<5.0.0dev,>=3.15.0 in /home/joy/.local/lib/python3.8/site-packages (from google-api-core!=2.0.*,!=2.1.*,!=2.2.*,!=2.3.0,<3.0.0dev,>=1.31.5->google-cloud-storage->earthengine-api>=0.1.304->geemap) (4.21.4)\n",
      "Requirement already satisfied: pyasn1>=0.1.3 in /home/joy/.local/lib/python3.8/site-packages (from rsa<5,>=3.1.4; python_version >= \"3.6\"->google-auth>=1.4.1->earthengine-api>=0.1.304->geemap) (0.4.8)\n",
      "Requirement already satisfied: fastjsonschema in /home/joy/.local/lib/python3.8/site-packages (from nbformat->notebook<7->jupyterlab>=3->geemap) (2.16.1)\n",
      "Requirement already satisfied: defusedxml in /home/joy/.local/lib/python3.8/site-packages (from nbconvert>=5->notebook<7->jupyterlab>=3->geemap) (0.7.1)\n",
      "Requirement already satisfied: jupyterlab-pygments in /home/joy/.local/lib/python3.8/site-packages (from nbconvert>=5->notebook<7->jupyterlab>=3->geemap) (0.2.2)\n",
      "Requirement already satisfied: nbclient>=0.5.0 in /home/joy/.local/lib/python3.8/site-packages (from nbconvert>=5->notebook<7->jupyterlab>=3->geemap) (0.6.6)\n",
      "Requirement already satisfied: entrypoints>=0.2.2 in /usr/lib/python3/dist-packages (from nbconvert>=5->notebook<7->jupyterlab>=3->geemap) (0.3)\n",
      "Requirement already satisfied: bleach in /home/joy/.local/lib/python3.8/site-packages (from nbconvert>=5->notebook<7->jupyterlab>=3->geemap) (5.0.1)\n",
      "Requirement already satisfied: tinycss2 in /home/joy/.local/lib/python3.8/site-packages (from nbconvert>=5->notebook<7->jupyterlab>=3->geemap) (1.1.1)\n",
      "Requirement already satisfied: pandocfilters>=1.4.1 in /home/joy/.local/lib/python3.8/site-packages (from nbconvert>=5->notebook<7->jupyterlab>=3->geemap) (1.5.0)\n",
      "Requirement already satisfied: mistune<2,>=0.8.1 in /home/joy/.local/lib/python3.8/site-packages (from nbconvert>=5->notebook<7->jupyterlab>=3->geemap) (0.8.4)\n",
      "Requirement already satisfied: argon2-cffi-bindings in /home/joy/.local/lib/python3.8/site-packages (from argon2-cffi->notebook<7->jupyterlab>=3->geemap) (21.2.0)\n",
      "Requirement already satisfied: ptyprocess; os_name != \"nt\" in /home/joy/.local/lib/python3.8/site-packages (from terminado>=0.8.3->notebook<7->jupyterlab>=3->geemap) (0.7.0)\n",
      "Requirement already satisfied: pyrsistent!=0.17.0,!=0.17.1,!=0.17.2,>=0.14.0 in /home/joy/.local/lib/python3.8/site-packages (from jsonschema>=3.0.1->jupyterlab-server~=2.10->jupyterlab>=3->geemap) (0.18.1)\n",
      "Requirement already satisfied: attrs>=17.4.0 in /home/joy/.local/lib/python3.8/site-packages (from jsonschema>=3.0.1->jupyterlab-server~=2.10->jupyterlab>=3->geemap) (21.4.0)\n",
      "Requirement already satisfied: importlib-resources>=1.4.0; python_version < \"3.9\" in /home/joy/.local/lib/python3.8/site-packages (from jsonschema>=3.0.1->jupyterlab-server~=2.10->jupyterlab>=3->geemap) (5.7.1)\n",
      "Requirement already satisfied: zipp>=0.5 in /home/joy/.local/lib/python3.8/site-packages (from importlib-metadata>=3.6; python_version < \"3.10\"->jupyterlab-server~=2.10->jupyterlab>=3->geemap) (3.8.0)\n",
      "Requirement already satisfied: executing in /home/joy/.local/lib/python3.8/site-packages (from stack-data->ipython->jupyterlab>=3->geemap) (0.9.1)\n",
      "Requirement already satisfied: pure-eval in /home/joy/.local/lib/python3.8/site-packages (from stack-data->ipython->jupyterlab>=3->geemap) (0.2.2)\n",
      "Requirement already satisfied: asttokens in /home/joy/.local/lib/python3.8/site-packages (from stack-data->ipython->jupyterlab>=3->geemap) (2.0.5)\n",
      "Requirement already satisfied: parso<0.9.0,>=0.8.0 in /home/joy/.local/lib/python3.8/site-packages (from jedi>=0.16->ipython->jupyterlab>=3->geemap) (0.8.3)\n",
      "Requirement already satisfied: wcwidth in /home/joy/.local/lib/python3.8/site-packages (from prompt-toolkit!=3.0.0,!=3.0.1,<3.1.0,>=2.0.0->ipython->jupyterlab>=3->geemap) (0.2.5)\n",
      "Requirement already satisfied: sniffio>=1.1 in /home/joy/.local/lib/python3.8/site-packages (from anyio<4,>=3.1.0->jupyter-server~=1.16->jupyterlab>=3->geemap) (1.2.0)\n",
      "Requirement already satisfied: webencodings in /home/joy/.local/lib/python3.8/site-packages (from bleach->nbconvert>=5->notebook<7->jupyterlab>=3->geemap) (0.5.1)\n",
      "Requirement already satisfied: cffi>=1.0.1 in /home/joy/.local/lib/python3.8/site-packages (from argon2-cffi-bindings->argon2-cffi->notebook<7->jupyterlab>=3->geemap) (1.14.0)\n",
      "Requirement already satisfied: pycparser in /home/joy/.local/lib/python3.8/site-packages (from cffi>=1.0.1->argon2-cffi-bindings->argon2-cffi->notebook<7->jupyterlab>=3->geemap) (2.19)\n",
      "Note: you may need to restart the kernel to use updated packages.\n"
     ]
    }
   ],
   "source": [
    "pip install geemap"
   ]
  },
  {
   "cell_type": "markdown",
   "metadata": {},
   "source": [
    "# How to add a draggable legend to the map"
   ]
  },
  {
   "cell_type": "code",
   "execution_count": null,
   "metadata": {},
   "outputs": [],
   "source": [
    "import ee\n",
    "import geemap.foliumap as geemap"
   ]
  },
  {
   "cell_type": "code",
   "execution_count": null,
   "metadata": {},
   "outputs": [],
   "source": [
    "# geemap.update_package()"
   ]
  },
  {
   "cell_type": "markdown",
   "metadata": {},
   "source": [
    "## Add a builtin legend to the map"
   ]
  },
  {
   "cell_type": "code",
   "execution_count": null,
   "metadata": {},
   "outputs": [],
   "source": [
    "legends = geemap.builtin_legends\n",
    "for legend in legends:\n",
    "    print(legend)"
   ]
  },
  {
   "cell_type": "markdown",
   "metadata": {},
   "source": [
    "### Available Land Cover Datasets in Earth Engine\n",
    "\n",
    "https://developers.google.com/earth-engine/datasets/tags/landcover"
   ]
  },
  {
   "cell_type": "markdown",
   "metadata": {},
   "source": [
    "### National Land Cover Database (NLCD)\n",
    "\n",
    "https://developers.google.com/earth-engine/datasets/catalog/USGS_NLCD"
   ]
  },
  {
   "cell_type": "code",
   "execution_count": null,
   "metadata": {},
   "outputs": [],
   "source": [
    "Map = geemap.Map()\n",
    "\n",
    "landcover = ee.Image('USGS/NLCD/NLCD2016').select('landcover')\n",
    "Map.addLayer(landcover, {}, 'NLCD Land Cover')\n",
    "\n",
    "Map.add_legend(builtin_legend='NLCD')\n",
    "\n",
    "Map.addLayerControl()\n",
    "\n",
    "Map"
   ]
  },
  {
   "cell_type": "markdown",
   "metadata": {},
   "source": [
    "### MODIS Land Cover Type Yearly Global 500m\n",
    "\n",
    "https://developers.google.com/earth-engine/datasets/catalog/MODIS_006_MCD12Q1"
   ]
  },
  {
   "cell_type": "code",
   "execution_count": null,
   "metadata": {},
   "outputs": [],
   "source": [
    "Map = geemap.Map()\n",
    "\n",
    "landcover = ee.Image('MODIS/006/MCD12Q1/2013_01_01').select('LC_Type1')\n",
    "igbpLandCoverVis = {\n",
    "    'min': 1.0,\n",
    "    'max': 17.0,\n",
    "    'palette': [\n",
    "        '05450a',\n",
    "        '086a10',\n",
    "        '54a708',\n",
    "        '78d203',\n",
    "        '009900',\n",
    "        'c6b044',\n",
    "        'dcd159',\n",
    "        'dade48',\n",
    "        'fbff13',\n",
    "        'b6ff05',\n",
    "        '27ff87',\n",
    "        'c24f44',\n",
    "        'a5a5a5',\n",
    "        'ff6d4c',\n",
    "        '69fff8',\n",
    "        'f9ffa4',\n",
    "        '1c0dff',\n",
    "    ],\n",
    "}\n",
    "\n",
    "Map.setCenter(6.746, 46.529, 2)\n",
    "Map.addLayer(landcover, igbpLandCoverVis, 'MODIS Land Cover')\n",
    "\n",
    "Map.setCenter(6.746, 46.529, 2)\n",
    "Map.addLayer(landcover, igbpLandCoverVis, 'MODIS Land Cover')\n",
    "Map.add_legend(builtin_legend='MODIS/006/MCD12Q1')\n",
    "\n",
    "Map.addLayerControl()\n",
    "\n",
    "Map"
   ]
  },
  {
   "cell_type": "markdown",
   "metadata": {},
   "source": [
    "## Add customized legends for Earth Engine data\n",
    "\n",
    "There are three ways you can add customized legends for Earth Engine data\n",
    "\n",
    "1. Define legend labels and colors\n",
    "2. Define legend dictionary\n",
    "3. Convert Earth Engine class table to legend dictionary\n",
    "\n",
    "### Define legend keys and colors"
   ]
  },
  {
   "cell_type": "code",
   "execution_count": null,
   "metadata": {},
   "outputs": [],
   "source": [
    "Map = geemap.Map()\n",
    "\n",
    "labels = ['One', 'Two', 'Three', 'Four', 'ect']\n",
    "# color can be defined using either hex code or RGB (0-255, 0-255, 0-255)\n",
    "colors = ['#8DD3C7', '#FFFFB3', '#BEBADA', '#FB8072', '#80B1D3']\n",
    "# colors = [(255, 0, 0), (127, 255, 0), (127, 18, 25), (36, 70, 180), (96, 68, 123)]\n",
    "\n",
    "Map.add_legend(title='Legend', labels=labels, colors=colors)\n",
    "Map"
   ]
  },
  {
   "cell_type": "markdown",
   "metadata": {},
   "source": [
    "### Define a legend dictionary"
   ]
  },
  {
   "cell_type": "code",
   "execution_count": null,
   "metadata": {},
   "outputs": [],
   "source": [
    "Map = geemap.Map()\n",
    "\n",
    "legend_dict = {\n",
    "    '11 Open Water': '466b9f',\n",
    "    '12 Perennial Ice/Snow': 'd1def8',\n",
    "    '21 Developed, Open Space': 'dec5c5',\n",
    "    '22 Developed, Low Intensity': 'd99282',\n",
    "    '23 Developed, Medium Intensity': 'eb0000',\n",
    "    '24 Developed High Intensity': 'ab0000',\n",
    "    '31 Barren Land (Rock/Sand/Clay)': 'b3ac9f',\n",
    "    '41 Deciduous Forest': '68ab5f',\n",
    "    '42 Evergreen Forest': '1c5f2c',\n",
    "    '43 Mixed Forest': 'b5c58f',\n",
    "    '51 Dwarf Scrub': 'af963c',\n",
    "    '52 Shrub/Scrub': 'ccb879',\n",
    "    '71 Grassland/Herbaceous': 'dfdfc2',\n",
    "    '72 Sedge/Herbaceous': 'd1d182',\n",
    "    '73 Lichens': 'a3cc51',\n",
    "    '74 Moss': '82ba9e',\n",
    "    '81 Pasture/Hay': 'dcd939',\n",
    "    '82 Cultivated Crops': 'ab6c28',\n",
    "    '90 Woody Wetlands': 'b8d9eb',\n",
    "    '95 Emergent Herbaceous Wetlands': '6c9fb8',\n",
    "}\n",
    "\n",
    "landcover = ee.Image('USGS/NLCD/NLCD2016').select('landcover')\n",
    "Map.addLayer(landcover, {}, 'NLCD Land Cover')\n",
    "\n",
    "Map.add_legend(title=\"NLCD Land Cover Classification\", legend_dict=legend_dict)\n",
    "\n",
    "Map.addLayerControl()\n",
    "\n",
    "Map"
   ]
  },
  {
   "cell_type": "markdown",
   "metadata": {},
   "source": [
    "### Convert an Earth Engine class table to legend\n",
    "\n",
    "For example: MCD12Q1 Land Cover Type Yearly Global 500m\n",
    "\n",
    "https://developers.google.com/earth-engine/datasets/catalog/MODIS_006_MCD12Q1"
   ]
  },
  {
   "cell_type": "code",
   "execution_count": null,
   "metadata": {},
   "outputs": [],
   "source": [
    "Map = geemap.Map()\n",
    "\n",
    "ee_class_table = \"\"\"\n",
    "\n",
    "Value\tColor\tDescription\n",
    "0\t1c0dff\tWater\n",
    "1\t05450a\tEvergreen needleleaf forest\n",
    "2\t086a10\tEvergreen broadleaf forest\n",
    "3\t54a708\tDeciduous needleleaf forest\n",
    "4\t78d203\tDeciduous broadleaf forest\n",
    "5\t009900\tMixed forest\n",
    "6\tc6b044\tClosed shrublands\n",
    "7\tdcd159\tOpen shrublands\n",
    "8\tdade48\tWoody savannas\n",
    "9\tfbff13\tSavannas\n",
    "10\tb6ff05\tGrasslands\n",
    "11\t27ff87\tPermanent wetlands\n",
    "12\tc24f44\tCroplands\n",
    "13\ta5a5a5\tUrban and built-up\n",
    "14\tff6d4c\tCropland/natural vegetation mosaic\n",
    "15\t69fff8\tSnow and ice\n",
    "16\tf9ffa4\tBarren or sparsely vegetated\n",
    "254\tffffff\tUnclassified\n",
    "\n",
    "\"\"\"\n",
    "\n",
    "landcover = ee.Image('MODIS/006/MCD12Q1/2013_01_01').select('LC_Type1')\n",
    "igbpLandCoverVis = {\n",
    "    'min': 1.0,\n",
    "    'max': 17.0,\n",
    "    'palette': [\n",
    "        '05450a',\n",
    "        '086a10',\n",
    "        '54a708',\n",
    "        '78d203',\n",
    "        '009900',\n",
    "        'c6b044',\n",
    "        'dcd159',\n",
    "        'dade48',\n",
    "        'fbff13',\n",
    "        'b6ff05',\n",
    "        '27ff87',\n",
    "        'c24f44',\n",
    "        'a5a5a5',\n",
    "        'ff6d4c',\n",
    "        '69fff8',\n",
    "        'f9ffa4',\n",
    "        '1c0dff',\n",
    "    ],\n",
    "}\n",
    "\n",
    "Map.setCenter(6.746, 46.529, 2)\n",
    "Map.addLayer(landcover, igbpLandCoverVis, 'MODIS Land Cover')\n",
    "\n",
    "legend_dict = geemap.legend_from_ee(ee_class_table)\n",
    "Map.add_legend(title=\"MODIS Global Land Cover\", legend_dict=legend_dict)\n",
    "\n",
    "Map.addLayerControl()\n",
    "\n",
    "Map"
   ]
  }
 ],
 "metadata": {
  "hide_input": false,
  "kernelspec": {
   "display_name": "Python 3 (ipykernel)",
   "language": "python",
   "name": "python3"
  },
  "language_info": {
   "codemirror_mode": {
    "name": "ipython",
    "version": 3
   },
   "file_extension": ".py",
   "mimetype": "text/x-python",
   "name": "python",
   "nbconvert_exporter": "python",
   "pygments_lexer": "ipython3",
   "version": "3.8.10"
  },
  "toc": {
   "base_numbering": 1,
   "nav_menu": {},
   "number_sections": true,
   "sideBar": true,
   "skip_h1_title": true,
   "title_cell": "Table of Contents",
   "title_sidebar": "Table of Contents",
   "toc_cell": false,
   "toc_position": {},
   "toc_section_display": true,
   "toc_window_display": true
  },
  "varInspector": {
   "cols": {
    "lenName": 16,
    "lenType": 16,
    "lenVar": 40
   },
   "kernels_config": {
    "python": {
     "delete_cmd_postfix": "",
     "delete_cmd_prefix": "del ",
     "library": "var_list.py",
     "varRefreshCmd": "print(var_dic_list())"
    },
    "r": {
     "delete_cmd_postfix": ") ",
     "delete_cmd_prefix": "rm(",
     "library": "var_list.r",
     "varRefreshCmd": "cat(var_dic_list()) "
    }
   },
   "types_to_exclude": [
    "module",
    "function",
    "builtin_function_or_method",
    "instance",
    "_Feature"
   ],
   "window_display": false
  }
 },
 "nbformat": 4,
 "nbformat_minor": 4
}
